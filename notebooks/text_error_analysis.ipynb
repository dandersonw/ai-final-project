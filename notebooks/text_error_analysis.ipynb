{
 "cells": [
  {
   "cell_type": "code",
   "execution_count": 1,
   "metadata": {
    "autoscroll": false,
    "collapsed": false,
    "ein.hycell": false,
    "ein.tags": "worksheet-0",
    "slideshow": {
     "slide_type": "-"
    }
   },
   "outputs": [],
   "source": [
    "import pandas as pd\n",
    "import tensorflow as tf\n",
    "import numpy as np\n",
    "\n",
    "import sys\n",
    "from pathlib import Path\n",
    "\n",
    "MY_SRC = '../src/'\n",
    "if MY_SRC not in sys.path:\n",
    "    sys.path.append(MY_SRC)\n",
    "\n",
    "import text_model\n",
    "import data\n",
    "import importlib\n",
    "\n",
    "import matplotlib.pyplot as plt\n",
    "%matplotlib inline"
   ]
  },
  {
   "cell_type": "code",
   "execution_count": 20,
   "metadata": {
    "autoscroll": false,
    "collapsed": false,
    "ein.hycell": false,
    "ein.tags": "worksheet-0",
    "slideshow": {
     "slide_type": "-"
    }
   },
   "outputs": [],
   "source": [
    "from sklearn import metrics\n",
    "import seaborn as sns"
   ]
  },
  {
   "cell_type": "code",
   "execution_count": 94,
   "metadata": {
    "autoscroll": false,
    "collapsed": false,
    "ein.hycell": false,
    "ein.tags": "worksheet-0",
    "slideshow": {
     "slide_type": "-"
    }
   },
   "outputs": [],
   "source": [
    "REPORTS_DIR = Path('../reports/')\n",
    "\n",
    "CLASSES = ['creature', 'spell', 'enchantment', 'artifact']\n",
    "prediction_cols = ['class_{}_p'.format(i) for i in range(4)]\n",
    "\n",
    "def report_path(model_genre, test_genre, model_size):\n",
    "    name = '{}-{}-model-{}-data-report.csv'.format(model_genre, model_size, test_genre)\n",
    "    return REPORTS_DIR / name\n",
    "\n",
    "def load_report(path):\n",
    "    report = pd.read_csv(path,\n",
    "                         dtype={'label': np.int32,\n",
    "                                'prediction': np.int32,\n",
    "                                **{c: np.float32 for c in prediction_cols}})\n",
    "    return report\n",
    "\n",
    "def report_metrics(r):\n",
    "    probs = r[prediction_cols].values.astype(np.float32)\n",
    "    predictions = np.argmax(probs, axis=-1)\n",
    "    labels = r['label'].values\n",
    "    m = {}\n",
    "    m['accuracy'] = metrics.accuracy_score(labels, predictions)\n",
    "    m['log_loss'] = metrics.log_loss(labels, probs)\n",
    "    m['f1'] = metrics.f1_score(labels,\n",
    "                               predictions,\n",
    "                               average='macro')\n",
    "    m['confusion'] = metrics.confusion_matrix(labels, predictions)\n",
    "    return m\n",
    "\n",
    "def print_metrics(m):\n",
    "    print('Log loss: {:.4f}'.format(m['log_loss']))\n",
    "    print('Accuracy: {:.4f}'.format(m['accuracy']))\n",
    "    print('Macro F1: {:.4f}'.format(m['f1']))\n",
    "    \n",
    "    fig = plt.figure(figsize=(12, 12))\n",
    "    sns.heatmap(m['confusion'], cmap='BuPu', xticklabels=CLASSES, yticklabels=CLASSES)"
   ]
  },
  {
   "cell_type": "code",
   "execution_count": 102,
   "metadata": {
    "autoscroll": false,
    "collapsed": false,
    "ein.hycell": false,
    "ein.tags": "worksheet-0",
    "slideshow": {
     "slide_type": "-"
    }
   },
   "outputs": [],
   "source": [
    "genres = ['all', 'legacy', 'modern']\n",
    "best_size = 'small'\n",
    "\n",
    "def genre_pair_metrics(mg, tg):\n",
    "    return report_metrics(load_report(report_path(mg, tg, best_size)))\n",
    "\n",
    "accuracy = pd.DataFrame.from_records([{**{tg: genre_pair_metrics(mg, tg)['accuracy']\n",
    "                                          for tg in genres},\n",
    "                                       'training': mg}\n",
    "                                      for mg in genres],\n",
    "                                     index='training')"
   ]
  },
  {
   "cell_type": "code",
   "execution_count": 103,
   "metadata": {
    "autoscroll": false,
    "collapsed": false,
    "ein.hycell": false,
    "ein.tags": "worksheet-0",
    "slideshow": {
     "slide_type": "-"
    }
   },
   "outputs": [
    {
     "data": {
      "text/plain": [
       "               all    legacy    modern\ntraining                              \nall       0.805682  0.800626  0.811721\nlegacy    0.764205  0.770355  0.750623\nmodern    0.759659  0.741127  0.783042"
      ]
     },
     "execution_count": 103,
     "metadata": {},
     "output_type": "execute_result"
    }
   ],
   "source": [
    "accuracy"
   ]
  },
  {
   "cell_type": "code",
   "execution_count": 125,
   "metadata": {
    "autoscroll": false,
    "collapsed": false,
    "ein.hycell": false,
    "ein.tags": "worksheet-0",
    "slideshow": {
     "slide_type": "-"
    }
   },
   "outputs": [],
   "source": [
    "r = load_report(report_path('modern', 'modern', 'large'))"
   ]
  },
  {
   "cell_type": "code",
   "execution_count": 126,
   "metadata": {
    "autoscroll": false,
    "collapsed": false,
    "ein.hycell": false,
    "ein.tags": "worksheet-0",
    "slideshow": {
     "slide_type": "-"
    }
   },
   "outputs": [
    {
     "name": "stdout",
     "output_type": "stream",
     "text": [
      "Log loss: 0.6132\n",
      "Accuracy: 0.7855\n",
      "Macro F1: 0.6103\n"
     ]
    },
    {
     "data": {
      "image/png": "[encoded data removed]",
      "text/plain": [
       "<Figure size 864x864 with 2 Axes>"
      ]
     },
     "metadata": {},
     "output_type": "display_data"
    }
   ],
   "source": [
    "print_metrics(report_metrics(r))"
   ]
  },
  {
   "cell_type": "code",
   "execution_count": 127,
   "metadata": {
    "autoscroll": false,
    "collapsed": false,
    "ein.hycell": false,
    "ein.tags": "worksheet-0",
    "slideshow": {
     "slide_type": "-"
    }
   },
   "outputs": [],
   "source": [
    "s = load_report(report_path('modern', 'modern', 'small'))"
   ]
  },
  {
   "cell_type": "code",
   "execution_count": 128,
   "metadata": {
    "autoscroll": false,
    "collapsed": false,
    "ein.hycell": false,
    "ein.tags": "worksheet-0",
    "slideshow": {
     "slide_type": "-"
    }
   },
   "outputs": [
    {
     "name": "stdout",
     "output_type": "stream",
     "text": [
      "Log loss: 0.5815\n",
      "Accuracy: 0.7830\n",
      "Macro F1: 0.6429\n"
     ]
    },
    {
     "data": {
      "image/png": "[encoded data removed]",
      "text/plain": [
       "<Figure size 864x864 with 2 Axes>"
      ]
     },
     "metadata": {},
     "output_type": "display_data"
    }
   ],
   "source": [
    "print_metrics(report_metrics(s))"
   ]
  },
  {
   "cell_type": "code",
   "execution_count": null,
   "metadata": {
    "autoscroll": false,
    "collapsed": false,
    "ein.hycell": false,
    "ein.tags": "worksheet-0",
    "slideshow": {
     "slide_type": "-"
    }
   },
   "outputs": [],
   "source": [
    "def intern(string):\n",
    "    r = np.ndarray([len(string)], dtype=np.int64)\n",
    "    for i, c in enumerate(string):\n",
    "        r[i] = ord(c)\n",
    "    return np.expand_dims(r, 0)"
   ]
  },
  {
   "cell_type": "code",
   "execution_count": 71,
   "metadata": {
    "autoscroll": false,
    "collapsed": false,
    "ein.hycell": false,
    "ein.tags": "worksheet-0",
    "slideshow": {
     "slide_type": "-"
    }
   },
   "outputs": [],
   "source": [
    "sess = tf.Session()\n",
    "testing_data = data.preload_dataset('../data/tfrecord/all_testing_data.tfrecord',\n",
    "                                    sess,\n",
    "                                    features=features)"
   ]
  },
  {
   "cell_type": "code",
   "execution_count": 2,
   "metadata": {
    "autoscroll": false,
    "collapsed": false,
    "ein.hycell": false,
    "ein.tags": "worksheet-0",
    "slideshow": {
     "slide_type": "-"
    }
   },
   "outputs": [],
   "source": [
    "config_dir = '../experiments'\n",
    "if config_dir not in sys.path:\n",
    "    sys.path.append(config_dir)\n",
    "\n",
    "import small_model_config\n",
    "features = small_model_config.features\n",
    "config = small_model_config.config"
   ]
  },
  {
   "cell_type": "code",
   "execution_count": 13,
   "metadata": {
    "autoscroll": false,
    "collapsed": false,
    "ein.hycell": false,
    "ein.tags": "worksheet-0",
    "slideshow": {
     "slide_type": "-"
    }
   },
   "outputs": [],
   "source": [
    "import self_attention\n",
    "importlib.reload(self_attention)\n",
    "importlib.reload(text_model)\n",
    "model = text_model.Model(config,\n",
    "                         checkpoint_path='checkpoints/all-small-model')\n",
    "tokens = tf.placeholder(shape=[None, None], dtype=tf.int64, name='tokens')\n",
    "predictions, attention_weights = model(tokens, return_attention_weights=True)"
   ]
  },
  {
   "cell_type": "code",
   "execution_count": 90,
   "metadata": {
    "autoscroll": false,
    "collapsed": false,
    "ein.hycell": false,
    "ein.tags": "worksheet-0",
    "slideshow": {
     "slide_type": "-"
    }
   },
   "outputs": [],
   "source": [
    "def attention_graph(name):\n",
    "    in_tokens = intern(name)\n",
    "    predictions, attention_weights = model.predict(in_tokens)\n",
    "    fig = plt.figure(figsize=(5, 1))\n",
    "    sns.heatmap(attention_weights[0], cmap='BuPu', xticklabels=name, cbar=False)\n",
    "    return fig"
   ]
  },
  {
   "cell_type": "code",
   "execution_count": 91,
   "metadata": {
    "autoscroll": false,
    "collapsed": false,
    "ein.hycell": false,
    "ein.tags": "worksheet-0",
    "slideshow": {
     "slide_type": "-"
    }
   },
   "outputs": [
    {
     "data": {
      "image/png": "[encoded data removed]",
      "text/plain": [
       "<Figure size 360x72 with 1 Axes>"
      ]
     },
     "metadata": {},
     "output_type": "display_data"
    }
   ],
   "source": [
    "name = data._unintern_tokens(testing_data[0]['tokens'][22])\n",
    "f = attention_graph(name)"
   ]
  },
  {
   "cell_type": "code",
   "execution_count": 79,
   "metadata": {
    "autoscroll": false,
    "collapsed": false,
    "ein.hycell": false,
    "ein.tags": "worksheet-0",
    "slideshow": {
     "slide_type": "-"
    }
   },
   "outputs": [],
   "source": [
    "f.savefig('tahngarth-attention.png')"
   ]
  },
  {
   "cell_type": "code",
   "execution_count": 111,
   "metadata": {
    "autoscroll": false,
    "collapsed": false,
    "ein.hycell": false,
    "ein.tags": "worksheet-0",
    "slideshow": {
     "slide_type": "-"
    }
   },
   "outputs": [
    {
     "data": {
      "image/png": "[encoded data removed]",
      "text/plain": [
       "<Figure size 432x288 with 1 Axes>"
      ]
     },
     "metadata": {},
     "output_type": "display_data"
    }
   ],
   "source": [
    "wv_acc_history = [.7496,\n",
    "                  .7701,\n",
    "                  .7752,\n",
    "                  .7884,\n",
    "                  .7929,\n",
    "                  .8009,\n",
    "                  .7969,\n",
    "                  .7969,\n",
    "                  .8043,\n",
    "                  .8049]\n",
    "\n",
    "char_acc_history = [.6144,\n",
    "                    .6269,\n",
    "                    .6172,\n",
    "                    .6195,\n",
    "                    .6315,\n",
    "                    .6366,\n",
    "                    .6515,\n",
    "                    .6600,\n",
    "                    .6526,\n",
    "                    .6743,\n",
    "                    .6845,\n",
    "                    .7017,\n",
    "                    .7119,\n",
    "                    .7176,\n",
    "                    .7119,\n",
    "                    .7165,\n",
    "                    .7279,\n",
    "                    .7359,\n",
    "                    .7443,\n",
    "                    .7507,\n",
    "                    .7553,\n",
    "                    .7553,\n",
    "                    .7655,\n",
    "                    .7633,\n",
    "                    .7735,\n",
    "                    .7707]\n",
    "\n",
    "plt.plot(char_acc_history)\n",
    "plt.plot(wv_acc_history)\n",
    "plt.show()"
   ]
  }
 ],
 "metadata": {
  "kernelspec": {
   "display_name": "Python [conda env:tf-1.12]",
   "name": "conda-env-tf-1.12-py"
  },
  "name": "text_error_analysis.ipynb"
 },
 "nbformat": 4,
 "nbformat_minor": 2
}
